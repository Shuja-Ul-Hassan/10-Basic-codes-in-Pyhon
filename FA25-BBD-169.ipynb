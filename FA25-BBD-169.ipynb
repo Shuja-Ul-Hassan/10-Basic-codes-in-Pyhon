{
 "cells": [
  {
   "cell_type": "code",
   "execution_count": 1,
   "id": "c799fa21-a242-4879-aab9-9ebabd16e41e",
   "metadata": {},
   "outputs": [
    {
     "data": {
      "text/plain": [
       "' Try solving these problems using for loops:\\n\\n1.Write a for loop to print all even numbers from 2 to 20.\\n2.Create a list of names and use a for loop to print each name in uppercase.\\n3.Use a for loop with range() to print numbers from 10 to 1 in reverse order.\\n4.Iterate through a list of integers and print only the numbers that are divisible by 3.\\n5.Write a loop that prints the squares of numbers from 1 to 10.\\n6.Given a list of temperatures in Celsius, use a for loop to convert each to Fahrenheit.\\n7.Create a for loop that prints the multiplication table of 5.\\n8.Write a program to find the sum of all numbers in a list using a for loop.\\n9.Use a for loop to iterate through a string and print each character separately.\\n10.Create a list of words and use a for loop to print only the words with more than 5 letters '"
      ]
     },
     "execution_count": 1,
     "metadata": {},
     "output_type": "execute_result"
    }
   ],
   "source": [
    "''' Try solving these problems using for loops:\n",
    "\n",
    "1.Write a for loop to print all even numbers from 2 to 20.\n",
    "2.Create a list of names and use a for loop to print each name in uppercase.\n",
    "3.Use a for loop with range() to print numbers from 10 to 1 in reverse order.\n",
    "4.Iterate through a list of integers and print only the numbers that are divisible by 3.\n",
    "5.Write a loop that prints the squares of numbers from 1 to 10.\n",
    "6.Given a list of temperatures in Celsius, use a for loop to convert each to Fahrenheit.\n",
    "7.Create a for loop that prints the multiplication table of 5.\n",
    "8.Write a program to find the sum of all numbers in a list using a for loop.\n",
    "9.Use a for loop to iterate through a string and print each character separately.\n",
    "10.Create a list of words and use a for loop to print only the words with more than 5 letters '''"
   ]
  },
  {
   "cell_type": "code",
   "execution_count": 2,
   "id": "66c33bea-bac0-4d7a-bcd3-acee73caa32b",
   "metadata": {},
   "outputs": [
    {
     "name": "stdout",
     "output_type": "stream",
     "text": [
      "2\n",
      "4\n",
      "6\n",
      "8\n",
      "10\n",
      "12\n",
      "14\n",
      "16\n",
      "18\n",
      "20\n"
     ]
    }
   ],
   "source": [
    "# 1\n",
    "for x in range(2,21,2):\n",
    "    print(x)"
   ]
  },
  {
   "cell_type": "code",
   "execution_count": 3,
   "id": "ff6aa42f-1947-4427-b142-36732449060e",
   "metadata": {},
   "outputs": [
    {
     "name": "stdout",
     "output_type": "stream",
     "text": [
      "HP\n",
      "DELL\n",
      "LENOVO\n",
      "ASUS\n"
     ]
    }
   ],
   "source": [
    "# 2 \n",
    "names=['hp','dell','lenovo','asus']\n",
    "for name in names:\n",
    "    print(name.upper())"
   ]
  },
  {
   "cell_type": "code",
   "execution_count": 4,
   "id": "43e02df4-4b73-494f-97e7-e788b366dbfc",
   "metadata": {},
   "outputs": [
    {
     "name": "stdout",
     "output_type": "stream",
     "text": [
      "10\n",
      "9\n",
      "8\n",
      "7\n",
      "6\n",
      "5\n",
      "4\n",
      "3\n",
      "2\n",
      "1\n"
     ]
    }
   ],
   "source": [
    "# 3\n",
    "for x in range(10,0,-1):\n",
    "    print(x)"
   ]
  },
  {
   "cell_type": "code",
   "execution_count": 5,
   "id": "726ee4e1-61c5-4412-8c4b-7f63b3762712",
   "metadata": {},
   "outputs": [
    {
     "name": "stdout",
     "output_type": "stream",
     "text": [
      "3\n",
      "6\n",
      "9\n",
      "12\n",
      "15\n",
      "18\n",
      "21\n",
      "24\n",
      "27\n"
     ]
    }
   ],
   "source": [
    "# 4\n",
    "for x in list(range(3,28,3)):\n",
    "    print(x)"
   ]
  },
  {
   "cell_type": "code",
   "execution_count": 6,
   "id": "4ae0c199-9275-4d8d-b8e3-ecee7e39ac9b",
   "metadata": {},
   "outputs": [
    {
     "name": "stdout",
     "output_type": "stream",
     "text": [
      "1\n",
      "4\n",
      "9\n",
      "16\n",
      "25\n",
      "36\n",
      "49\n",
      "64\n",
      "81\n",
      "100\n"
     ]
    }
   ],
   "source": [
    "# 5\n",
    "for x in list(range(1,11)):\n",
    "    y=x**2\n",
    "    print(y)"
   ]
  },
  {
   "cell_type": "code",
   "execution_count": 7,
   "id": "a5a35d0f-adcb-4803-9e6a-dde4041f11ac",
   "metadata": {},
   "outputs": [
    {
     "name": "stdout",
     "output_type": "stream",
     "text": [
      "32.0\n",
      "75.2\n",
      "87.8\n",
      "113.0\n"
     ]
    }
   ],
   "source": [
    "# 6\n",
    "celsius_temp=[0,24,31,45]\n",
    "for temp in celsius_temp:\n",
    "    farenheit_temp=temp*9/5+32\n",
    "    print(farenheit_temp)"
   ]
  },
  {
   "cell_type": "code",
   "execution_count": 8,
   "id": "e4ecb7e7-cd57-4f4a-89f0-fd83928bbd1c",
   "metadata": {},
   "outputs": [
    {
     "name": "stdout",
     "output_type": "stream",
     "text": [
      "5 × 1 = 5\n",
      "5 × 2 = 10\n",
      "5 × 3 = 15\n",
      "5 × 4 = 20\n",
      "5 × 5 = 25\n",
      "5 × 6 = 30\n",
      "5 × 7 = 35\n",
      "5 × 8 = 40\n",
      "5 × 9 = 45\n",
      "5 × 10 = 50\n"
     ]
    }
   ],
   "source": [
    "# 7\n",
    "for x in range(1,11):\n",
    "    y=x*5\n",
    "    print(f\"5 × {x} = {y}\")"
   ]
  },
  {
   "cell_type": "code",
   "execution_count": 9,
   "id": "05248f1d-072b-4d1a-9cf4-1cbbb3dd8d53",
   "metadata": {},
   "outputs": [
    {
     "name": "stdout",
     "output_type": "stream",
     "text": [
      "Sum of all numbers: 120\n"
     ]
    }
   ],
   "source": [
    "# 8\n",
    "numbers=list(range(1,16))\n",
    "\n",
    "for x in numbers:\n",
    "    total=sum(numbers)\n",
    "print(\"Sum of all numbers:\", total)\n"
   ]
  },
  {
   "cell_type": "code",
   "execution_count": 10,
   "id": "1ff12822-eee1-40a4-befe-4e4a238e0b0f",
   "metadata": {},
   "outputs": [
    {
     "name": "stdout",
     "output_type": "stream",
     "text": [
      "a\n",
      "b\n",
      "c\n",
      "d\n",
      "e\n",
      "f\n",
      "g\n",
      "h\n",
      "i\n",
      "j\n",
      "k\n",
      "l\n",
      "m\n",
      "n\n",
      "o\n",
      "p\n",
      "q\n",
      "r\n",
      "s\n",
      "t\n",
      "u\n",
      "v\n",
      "w\n",
      "x\n",
      "y\n",
      "z\n"
     ]
    }
   ],
   "source": [
    "# 9\n",
    "alphabets=['a','b','c','d','e','f','g','h','i','j','k','l','m','n','o','p','q','r','s','t','u','v','w','x','y','z']\n",
    "for abc in alphabets:\n",
    "    print(abc)"
   ]
  },
  {
   "cell_type": "code",
   "execution_count": 11,
   "id": "362e8647-d2b7-44b5-b379-dd1126733198",
   "metadata": {},
   "outputs": [
    {
     "name": "stdout",
     "output_type": "stream",
     "text": [
      "algorithm\n",
      "database\n",
      "encryption\n",
      "firewall\n",
      "hardware\n",
      "interface\n",
      "JavaScript\n",
      "kernel\n",
      "machine learning\n",
      "network\n",
      "open source\n",
      "protocol\n",
      "quantum computing\n",
      "repository\n",
      "server\n",
      "virtual reality\n"
     ]
    }
   ],
   "source": [
    "# 10\n",
    "terms=[\"algorithm\",\"database\",\"encryption\",\"firewall\",\"hardware\",\"interface\",\"JavaScript\",\"kernel\",\"machine learning\",\"network\",\"open source\",\"protocol\",\"quantum computing\",\"repository\",\"server\",\"token\",\"URL\",\"virtual reality\"]\n",
    "long_terms=[term for term in terms if len(term)>5]\n",
    "for filterterm in long_terms:\n",
    "    print(filterterm)"
   ]
  }
 ],
 "metadata": {
  "kernelspec": {
   "display_name": "Python 3",
   "language": "python",
   "name": "python3"
  },
  "language_info": {
   "codemirror_mode": {
    "name": "ipython",
    "version": 3
   },
   "file_extension": ".py",
   "mimetype": "text/x-python",
   "name": "python",
   "nbconvert_exporter": "python",
   "pygments_lexer": "ipython3",
   "version": "3.11.9"
  }
 },
 "nbformat": 4,
 "nbformat_minor": 5
}
